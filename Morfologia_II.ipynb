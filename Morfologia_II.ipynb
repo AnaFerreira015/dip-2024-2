{
  "nbformat": 4,
  "nbformat_minor": 0,
  "metadata": {
    "colab": {
      "provenance": [],
      "authorship_tag": "ABX9TyOhAlaBSKqQM5M3chaIi5Bj",
      "include_colab_link": true
    },
    "kernelspec": {
      "name": "python3",
      "display_name": "Python 3"
    },
    "language_info": {
      "name": "python"
    }
  },
  "cells": [
    {
      "cell_type": "markdown",
      "metadata": {
        "id": "view-in-github",
        "colab_type": "text"
      },
      "source": [
        "<a href=\"https://colab.research.google.com/github/AnaFerreira015/dip-2024-2/blob/main/Morfologia_II.ipynb\" target=\"_parent\"><img src=\"https://colab.research.google.com/assets/colab-badge.svg\" alt=\"Open In Colab\"/></a>"
      ]
    },
    {
      "cell_type": "markdown",
      "source": [
        "# 1. Esqueletonização. Usando a imagem 'horse'"
      ],
      "metadata": {
        "id": "MBZk-lDAST0R"
      }
    },
    {
      "cell_type": "code",
      "execution_count": 11,
      "metadata": {
        "id": "Pg7rrMBWOhfL"
      },
      "outputs": [],
      "source": [
        "import cv2\n",
        "import numpy as np\n",
        "from matplotlib import pyplot as plt\n",
        "from google.colab import files"
      ]
    },
    {
      "cell_type": "code",
      "source": [
        "uploaded = files.upload()\n",
        "image_path = list(uploaded.keys())[0]"
      ],
      "metadata": {
        "colab": {
          "base_uri": "https://localhost:8080/",
          "height": 73
        },
        "id": "FyHxk9L8On79",
        "outputId": "4742ebf1-98f4-4468-d5fd-ad17223c5652"
      },
      "execution_count": 12,
      "outputs": [
        {
          "output_type": "display_data",
          "data": {
            "text/plain": [
              "<IPython.core.display.HTML object>"
            ],
            "text/html": [
              "\n",
              "     <input type=\"file\" id=\"files-ece7824d-04e9-4960-9ab3-608f01cd6bb4\" name=\"files[]\" multiple disabled\n",
              "        style=\"border:none\" />\n",
              "     <output id=\"result-ece7824d-04e9-4960-9ab3-608f01cd6bb4\">\n",
              "      Upload widget is only available when the cell has been executed in the\n",
              "      current browser session. Please rerun this cell to enable.\n",
              "      </output>\n",
              "      <script>// Copyright 2017 Google LLC\n",
              "//\n",
              "// Licensed under the Apache License, Version 2.0 (the \"License\");\n",
              "// you may not use this file except in compliance with the License.\n",
              "// You may obtain a copy of the License at\n",
              "//\n",
              "//      http://www.apache.org/licenses/LICENSE-2.0\n",
              "//\n",
              "// Unless required by applicable law or agreed to in writing, software\n",
              "// distributed under the License is distributed on an \"AS IS\" BASIS,\n",
              "// WITHOUT WARRANTIES OR CONDITIONS OF ANY KIND, either express or implied.\n",
              "// See the License for the specific language governing permissions and\n",
              "// limitations under the License.\n",
              "\n",
              "/**\n",
              " * @fileoverview Helpers for google.colab Python module.\n",
              " */\n",
              "(function(scope) {\n",
              "function span(text, styleAttributes = {}) {\n",
              "  const element = document.createElement('span');\n",
              "  element.textContent = text;\n",
              "  for (const key of Object.keys(styleAttributes)) {\n",
              "    element.style[key] = styleAttributes[key];\n",
              "  }\n",
              "  return element;\n",
              "}\n",
              "\n",
              "// Max number of bytes which will be uploaded at a time.\n",
              "const MAX_PAYLOAD_SIZE = 100 * 1024;\n",
              "\n",
              "function _uploadFiles(inputId, outputId) {\n",
              "  const steps = uploadFilesStep(inputId, outputId);\n",
              "  const outputElement = document.getElementById(outputId);\n",
              "  // Cache steps on the outputElement to make it available for the next call\n",
              "  // to uploadFilesContinue from Python.\n",
              "  outputElement.steps = steps;\n",
              "\n",
              "  return _uploadFilesContinue(outputId);\n",
              "}\n",
              "\n",
              "// This is roughly an async generator (not supported in the browser yet),\n",
              "// where there are multiple asynchronous steps and the Python side is going\n",
              "// to poll for completion of each step.\n",
              "// This uses a Promise to block the python side on completion of each step,\n",
              "// then passes the result of the previous step as the input to the next step.\n",
              "function _uploadFilesContinue(outputId) {\n",
              "  const outputElement = document.getElementById(outputId);\n",
              "  const steps = outputElement.steps;\n",
              "\n",
              "  const next = steps.next(outputElement.lastPromiseValue);\n",
              "  return Promise.resolve(next.value.promise).then((value) => {\n",
              "    // Cache the last promise value to make it available to the next\n",
              "    // step of the generator.\n",
              "    outputElement.lastPromiseValue = value;\n",
              "    return next.value.response;\n",
              "  });\n",
              "}\n",
              "\n",
              "/**\n",
              " * Generator function which is called between each async step of the upload\n",
              " * process.\n",
              " * @param {string} inputId Element ID of the input file picker element.\n",
              " * @param {string} outputId Element ID of the output display.\n",
              " * @return {!Iterable<!Object>} Iterable of next steps.\n",
              " */\n",
              "function* uploadFilesStep(inputId, outputId) {\n",
              "  const inputElement = document.getElementById(inputId);\n",
              "  inputElement.disabled = false;\n",
              "\n",
              "  const outputElement = document.getElementById(outputId);\n",
              "  outputElement.innerHTML = '';\n",
              "\n",
              "  const pickedPromise = new Promise((resolve) => {\n",
              "    inputElement.addEventListener('change', (e) => {\n",
              "      resolve(e.target.files);\n",
              "    });\n",
              "  });\n",
              "\n",
              "  const cancel = document.createElement('button');\n",
              "  inputElement.parentElement.appendChild(cancel);\n",
              "  cancel.textContent = 'Cancel upload';\n",
              "  const cancelPromise = new Promise((resolve) => {\n",
              "    cancel.onclick = () => {\n",
              "      resolve(null);\n",
              "    };\n",
              "  });\n",
              "\n",
              "  // Wait for the user to pick the files.\n",
              "  const files = yield {\n",
              "    promise: Promise.race([pickedPromise, cancelPromise]),\n",
              "    response: {\n",
              "      action: 'starting',\n",
              "    }\n",
              "  };\n",
              "\n",
              "  cancel.remove();\n",
              "\n",
              "  // Disable the input element since further picks are not allowed.\n",
              "  inputElement.disabled = true;\n",
              "\n",
              "  if (!files) {\n",
              "    return {\n",
              "      response: {\n",
              "        action: 'complete',\n",
              "      }\n",
              "    };\n",
              "  }\n",
              "\n",
              "  for (const file of files) {\n",
              "    const li = document.createElement('li');\n",
              "    li.append(span(file.name, {fontWeight: 'bold'}));\n",
              "    li.append(span(\n",
              "        `(${file.type || 'n/a'}) - ${file.size} bytes, ` +\n",
              "        `last modified: ${\n",
              "            file.lastModifiedDate ? file.lastModifiedDate.toLocaleDateString() :\n",
              "                                    'n/a'} - `));\n",
              "    const percent = span('0% done');\n",
              "    li.appendChild(percent);\n",
              "\n",
              "    outputElement.appendChild(li);\n",
              "\n",
              "    const fileDataPromise = new Promise((resolve) => {\n",
              "      const reader = new FileReader();\n",
              "      reader.onload = (e) => {\n",
              "        resolve(e.target.result);\n",
              "      };\n",
              "      reader.readAsArrayBuffer(file);\n",
              "    });\n",
              "    // Wait for the data to be ready.\n",
              "    let fileData = yield {\n",
              "      promise: fileDataPromise,\n",
              "      response: {\n",
              "        action: 'continue',\n",
              "      }\n",
              "    };\n",
              "\n",
              "    // Use a chunked sending to avoid message size limits. See b/62115660.\n",
              "    let position = 0;\n",
              "    do {\n",
              "      const length = Math.min(fileData.byteLength - position, MAX_PAYLOAD_SIZE);\n",
              "      const chunk = new Uint8Array(fileData, position, length);\n",
              "      position += length;\n",
              "\n",
              "      const base64 = btoa(String.fromCharCode.apply(null, chunk));\n",
              "      yield {\n",
              "        response: {\n",
              "          action: 'append',\n",
              "          file: file.name,\n",
              "          data: base64,\n",
              "        },\n",
              "      };\n",
              "\n",
              "      let percentDone = fileData.byteLength === 0 ?\n",
              "          100 :\n",
              "          Math.round((position / fileData.byteLength) * 100);\n",
              "      percent.textContent = `${percentDone}% done`;\n",
              "\n",
              "    } while (position < fileData.byteLength);\n",
              "  }\n",
              "\n",
              "  // All done.\n",
              "  yield {\n",
              "    response: {\n",
              "      action: 'complete',\n",
              "    }\n",
              "  };\n",
              "}\n",
              "\n",
              "scope.google = scope.google || {};\n",
              "scope.google.colab = scope.google.colab || {};\n",
              "scope.google.colab._files = {\n",
              "  _uploadFiles,\n",
              "  _uploadFilesContinue,\n",
              "};\n",
              "})(self);\n",
              "</script> "
            ]
          },
          "metadata": {}
        },
        {
          "output_type": "stream",
          "name": "stdout",
          "text": [
            "Saving horse.png to horse.png\n"
          ]
        }
      ]
    },
    {
      "cell_type": "code",
      "source": [
        "image = cv2.imread(image_path, cv2.IMREAD_GRAYSCALE)\n",
        "_, binary = cv2.threshold(image, 127, 1, cv2.THRESH_BINARY_INV)"
      ],
      "metadata": {
        "id": "9jpBba89OqBS"
      },
      "execution_count": 13,
      "outputs": []
    },
    {
      "cell_type": "code",
      "source": [
        "kernel = cv2.getStructuringElement(cv2.MORPH_ELLIPSE, (3, 3))"
      ],
      "metadata": {
        "id": "Qgg3RNu-OsID"
      },
      "execution_count": 14,
      "outputs": []
    },
    {
      "cell_type": "code",
      "source": [
        "binary = cv2.morphologyEx(binary, cv2.MORPH_OPEN, kernel)"
      ],
      "metadata": {
        "id": "_5nPiBtVOt8D"
      },
      "execution_count": 15,
      "outputs": []
    },
    {
      "cell_type": "code",
      "source": [
        "binary = cv2.morphologyEx(binary, cv2.MORPH_CLOSE, kernel)"
      ],
      "metadata": {
        "id": "Y6X83BeAOvnr"
      },
      "execution_count": 16,
      "outputs": []
    },
    {
      "cell_type": "code",
      "source": [
        "skeleton = np.zeros(binary.shape, np.uint8)\n",
        "eroded = binary.copy()\n",
        "temp = np.zeros(binary.shape, np.uint8)"
      ],
      "metadata": {
        "id": "N2rHlfPqOxQV"
      },
      "execution_count": 17,
      "outputs": []
    },
    {
      "cell_type": "code",
      "source": [
        "kernel = cv2.getStructuringElement(cv2.MORPH_CROSS, (3, 3))"
      ],
      "metadata": {
        "id": "bUchYAB7Oyvv"
      },
      "execution_count": 18,
      "outputs": []
    },
    {
      "cell_type": "code",
      "source": [
        "while True:\n",
        "    opened = cv2.morphologyEx(eroded, cv2.MORPH_OPEN, kernel)\n",
        "    temp = cv2.subtract(eroded, opened)\n",
        "    skeleton = cv2.bitwise_or(skeleton, temp)\n",
        "    eroded = cv2.erode(eroded, kernel)\n",
        "    if cv2.countNonZero(eroded) == 0:\n",
        "        break"
      ],
      "metadata": {
        "id": "RW3bcHreO0tU"
      },
      "execution_count": 19,
      "outputs": []
    },
    {
      "cell_type": "code",
      "source": [
        "result = (1 - skeleton) * 255"
      ],
      "metadata": {
        "id": "qffKG1RHQIPi"
      },
      "execution_count": 20,
      "outputs": []
    },
    {
      "cell_type": "code",
      "source": [
        "plt.figure(figsize=(10, 5))\n",
        "plt.subplot(1, 2, 1)\n",
        "plt.title(\"Original\")\n",
        "plt.imshow(image, cmap='gray')"
      ],
      "metadata": {
        "colab": {
          "base_uri": "https://localhost:8080/",
          "height": 309
        },
        "id": "dmeeHQciQJwh",
        "outputId": "5330cb69-8a05-49b4-e09c-5e48cb4b0921"
      },
      "execution_count": 21,
      "outputs": [
        {
          "output_type": "execute_result",
          "data": {
            "text/plain": [
              "<matplotlib.image.AxesImage at 0x7caba9b9c0d0>"
            ]
          },
          "metadata": {},
          "execution_count": 21
        },
        {
          "output_type": "display_data",
          "data": {
            "text/plain": [
              "<Figure size 1000x500 with 1 Axes>"
            ],
            "image/png": "[encoded data removed]"
          },
          "metadata": {}
        }
      ]
    },
    {
      "cell_type": "code",
      "source": [
        "plt.subplot(1, 2, 2)\n",
        "plt.title(\"Esqueletonizada com melhoria\")\n",
        "plt.imshow(result, cmap='gray')\n",
        "plt.show()"
      ],
      "metadata": {
        "colab": {
          "base_uri": "https://localhost:8080/",
          "height": 217
        },
        "id": "Dw7niGgdQLYz",
        "outputId": "403c77cb-4879-454e-b7db-5719a680d2e1"
      },
      "execution_count": 22,
      "outputs": [
        {
          "output_type": "display_data",
          "data": {
            "text/plain": [
              "<Figure size 640x480 with 1 Axes>"
            ],
            "image/png": "[encoded data removed]"
          },
          "metadata": {}
        }
      ]
    },
    {
      "cell_type": "markdown",
      "source": [
        "Embora o pré-processamento tenha ajudado a reduzir ruídos, a natureza fragmentada do resultado é uma característica inerente ao método clássico de esqueletonização por erosão sucessiva, especialmente em imagens com detalhes finos."
      ],
      "metadata": {
        "id": "reCKtuKiSZPw"
      }
    },
    {
      "cell_type": "markdown",
      "source": [
        "# 2.1 – Dilatação Geodésica"
      ],
      "metadata": {
        "id": "oCRXITweSoWZ"
      }
    },
    {
      "cell_type": "markdown",
      "source": [
        "A dilatação geodésica é uma dilatação restrita por uma máscara.\n",
        "Dado:\n",
        "\n",
        "uma imagem marcador (`marker`) – onde a reconstrução começa;\n",
        "\n",
        "uma imagem máscara (`mask`) – que limita o crescimento;\n",
        "\n",
        "A dilatação geodésica é definida como:\n",
        "\n",
        "> A dilatação do marcador, com um elemento estruturante, intersectada com a máscara.\n",
        "\n",
        "Essa dilatação é aplicada iterativamente até que não haja mais crescimento (convergência)."
      ],
      "metadata": {
        "id": "WAmoT_oDStAD"
      }
    },
    {
      "cell_type": "code",
      "source": [
        "import cv2\n",
        "import numpy as np\n",
        "from matplotlib import pyplot as plt"
      ],
      "metadata": {
        "id": "ihf-T6RAS3id"
      },
      "execution_count": 23,
      "outputs": []
    },
    {
      "cell_type": "code",
      "source": [
        "mask = binary.copy()"
      ],
      "metadata": {
        "id": "IpRQPfThS5Dc"
      },
      "execution_count": 24,
      "outputs": []
    },
    {
      "cell_type": "code",
      "source": [
        "marker = np.zeros_like(mask, dtype=np.uint8)\n",
        "marker[100, 150] = 1"
      ],
      "metadata": {
        "id": "dIPvqa9zS62C"
      },
      "execution_count": 25,
      "outputs": []
    },
    {
      "cell_type": "code",
      "source": [
        "kernel = cv2.getStructuringElement(cv2.MORPH_CROSS, (3, 3))"
      ],
      "metadata": {
        "id": "PPxrnhn9S8am"
      },
      "execution_count": 26,
      "outputs": []
    },
    {
      "cell_type": "code",
      "source": [
        "prev = np.zeros_like(marker)\n",
        "while True:\n",
        "    dilated = cv2.dilate(marker, kernel)\n",
        "    marker_new = cv2.min(dilated, mask)\n",
        "    if np.array_equal(marker_new, marker):\n",
        "        break\n",
        "    marker = marker_new"
      ],
      "metadata": {
        "id": "xnXAkW8-S97E"
      },
      "execution_count": 27,
      "outputs": []
    },
    {
      "cell_type": "code",
      "source": [
        "result = (1 - marker) * 255"
      ],
      "metadata": {
        "id": "Ve3MlGpfS_9X"
      },
      "execution_count": 28,
      "outputs": []
    },
    {
      "cell_type": "code",
      "source": [
        "plt.figure(figsize=(10, 5))\n",
        "plt.subplot(1, 3, 1)\n",
        "plt.title(\"Máscara (cavalo)\")\n",
        "plt.imshow((1 - mask) * 255, cmap='gray')"
      ],
      "metadata": {
        "colab": {
          "base_uri": "https://localhost:8080/",
          "height": 235
        },
        "id": "MsrDwc1kTBUc",
        "outputId": "e13fdbba-b050-420e-fada-a49acf3ebf4b"
      },
      "execution_count": 29,
      "outputs": [
        {
          "output_type": "execute_result",
          "data": {
            "text/plain": [
              "<matplotlib.image.AxesImage at 0x7cab76cec050>"
            ]
          },
          "metadata": {},
          "execution_count": 29
        },
        {
          "output_type": "display_data",
          "data": {
            "text/plain": [
              "<Figure size 1000x500 with 1 Axes>"
            ],
            "image/png": "[encoded data removed]"
          },
          "metadata": {}
        }
      ]
    },
    {
      "cell_type": "code",
      "source": [
        "plt.subplot(1, 3, 2)\n",
        "plt.title(\"Marcador inicial\")\n",
        "plt.imshow((1 - marker) * 255, cmap='gray')"
      ],
      "metadata": {
        "colab": {
          "base_uri": "https://localhost:8080/",
          "height": 186
        },
        "id": "x1FEQgCiTav4",
        "outputId": "d1ae59cb-37b3-4665-d60a-106ada72502e"
      },
      "execution_count": 34,
      "outputs": [
        {
          "output_type": "execute_result",
          "data": {
            "text/plain": [
              "<matplotlib.image.AxesImage at 0x7cab741923d0>"
            ]
          },
          "metadata": {},
          "execution_count": 34
        },
        {
          "output_type": "display_data",
          "data": {
            "text/plain": [
              "<Figure size 640x480 with 1 Axes>"
            ],
            "image/png": "[encoded data removed]"
          },
          "metadata": {}
        }
      ]
    },
    {
      "cell_type": "code",
      "source": [
        "plt.subplot(1, 3, 3)\n",
        "plt.title(\"Dilatação Geodésica\")\n",
        "plt.imshow(result, cmap='gray')\n",
        "plt.show()"
      ],
      "metadata": {
        "colab": {
          "base_uri": "https://localhost:8080/",
          "height": 170
        },
        "id": "IgcBkK0vTEyZ",
        "outputId": "9a44929c-e049-4440-bb23-b67c3d062564"
      },
      "execution_count": 31,
      "outputs": [
        {
          "output_type": "display_data",
          "data": {
            "text/plain": [
              "<Figure size 640x480 with 1 Axes>"
            ],
            "image/png": "[encoded data removed]"
          },
          "metadata": {}
        }
      ]
    },
    {
      "cell_type": "markdown",
      "source": [
        "A dilatação geodésica foi implementada aplicando dilatações sucessivas do marcador com interseção com a máscara, até atingir a convergência. O crescimento se restringe aos contornos definidos pela máscara original, representando uma forma controlada de propagação morfológica."
      ],
      "metadata": {
        "id": "y03_hGekTjSj"
      }
    },
    {
      "cell_type": "markdown",
      "source": [
        "# 2.2 – Reconstrução Morfológica por Dilatação ou Erosão"
      ],
      "metadata": {
        "id": "Wy5Qx44bTpXN"
      }
    },
    {
      "cell_type": "markdown",
      "source": [
        "A reconstrução morfológica reconstrói uma imagem (marker) sob o controle de outra (máscara), usando operações geodésicas repetidas até estabilização."
      ],
      "metadata": {
        "id": "1HVLDmzhTrIy"
      }
    },
    {
      "cell_type": "markdown",
      "source": [
        "**Formas principais:**\n",
        "* Reconstrução por Dilatação (usada quando o marcador ⊆ máscara\n",
        "* Reconstrução por Erosão (quando o marcador ⊇ máscara)"
      ],
      "metadata": {
        "id": "ZXHIl5bxTs1g"
      }
    },
    {
      "cell_type": "code",
      "source": [
        "import cv2\n",
        "import numpy as np\n",
        "from matplotlib import pyplot as plt"
      ],
      "metadata": {
        "id": "hGY_2fBmTy5l"
      },
      "execution_count": 35,
      "outputs": []
    },
    {
      "cell_type": "code",
      "source": [
        "kernel = cv2.getStructuringElement(cv2.MORPH_CROSS, (3, 3))"
      ],
      "metadata": {
        "id": "gX45lXxJT0hX"
      },
      "execution_count": 36,
      "outputs": []
    },
    {
      "cell_type": "code",
      "source": [
        "marker = cv2.erode(binary, kernel, iterations=5)"
      ],
      "metadata": {
        "id": "TCTc8WhJT2Sa"
      },
      "execution_count": 37,
      "outputs": []
    },
    {
      "cell_type": "code",
      "source": [
        "mask = binary.copy()"
      ],
      "metadata": {
        "id": "Qg7WKhuYT3h6"
      },
      "execution_count": 38,
      "outputs": []
    },
    {
      "cell_type": "code",
      "source": [
        "reconstructed = marker.copy()\n",
        "while True:\n",
        "    dilated = cv2.dilate(reconstructed, kernel)\n",
        "    reconstructed_new = cv2.min(dilated, mask)\n",
        "    if np.array_equal(reconstructed_new, reconstructed):\n",
        "        break\n",
        "    reconstructed = reconstructed_new"
      ],
      "metadata": {
        "id": "GQ_nFoqxT45U"
      },
      "execution_count": 39,
      "outputs": []
    },
    {
      "cell_type": "code",
      "source": [
        "result = (1 - reconstructed) * 255"
      ],
      "metadata": {
        "id": "uisr-3QPT6Q_"
      },
      "execution_count": 40,
      "outputs": []
    },
    {
      "cell_type": "code",
      "source": [
        "plt.figure(figsize=(15, 5))"
      ],
      "metadata": {
        "colab": {
          "base_uri": "https://localhost:8080/",
          "height": 52
        },
        "id": "rBRz3bufT98t",
        "outputId": "c4d9b598-fa6f-488a-be91-f2a7c7ea0913"
      },
      "execution_count": 41,
      "outputs": [
        {
          "output_type": "execute_result",
          "data": {
            "text/plain": [
              "<Figure size 1500x500 with 0 Axes>"
            ]
          },
          "metadata": {},
          "execution_count": 41
        },
        {
          "output_type": "display_data",
          "data": {
            "text/plain": [
              "<Figure size 1500x500 with 0 Axes>"
            ]
          },
          "metadata": {}
        }
      ]
    },
    {
      "cell_type": "code",
      "source": [
        "plt.subplot(1, 3, 1)\n",
        "plt.title(\"Máscara (original)\")\n",
        "plt.imshow((1 - mask) * 255, cmap='gray')"
      ],
      "metadata": {
        "colab": {
          "base_uri": "https://localhost:8080/",
          "height": 187
        },
        "id": "5gkBUBkKT_qM",
        "outputId": "f0edb106-ad36-4e3b-f240-81b4d67768ee"
      },
      "execution_count": 42,
      "outputs": [
        {
          "output_type": "execute_result",
          "data": {
            "text/plain": [
              "<matplotlib.image.AxesImage at 0x7cab741ed8d0>"
            ]
          },
          "metadata": {},
          "execution_count": 42
        },
        {
          "output_type": "display_data",
          "data": {
            "text/plain": [
              "<Figure size 640x480 with 1 Axes>"
            ],
            "image/png": "[encoded data removed]"
          },
          "metadata": {}
        }
      ]
    },
    {
      "cell_type": "code",
      "source": [
        "plt.subplot(1, 3, 2)\n",
        "plt.title(\"Marcador (erosão)\")\n",
        "plt.imshow((1 - marker) * 255, cmap='gray')"
      ],
      "metadata": {
        "colab": {
          "base_uri": "https://localhost:8080/",
          "height": 186
        },
        "id": "3mRAWl6NUCAv",
        "outputId": "b354a8bc-dd40-447f-a309-2fb686923314"
      },
      "execution_count": 43,
      "outputs": [
        {
          "output_type": "execute_result",
          "data": {
            "text/plain": [
              "<matplotlib.image.AxesImage at 0x7cab741c5350>"
            ]
          },
          "metadata": {},
          "execution_count": 43
        },
        {
          "output_type": "display_data",
          "data": {
            "text/plain": [
              "<Figure size 640x480 with 1 Axes>"
            ],
            "image/png": "[encoded data removed]"
          },
          "metadata": {}
        }
      ]
    },
    {
      "cell_type": "code",
      "source": [
        "plt.subplot(1, 3, 3)\n",
        "plt.title(\"Reconstrução por Dilatação\")\n",
        "plt.imshow(result, cmap='gray')\n",
        "plt.show()"
      ],
      "metadata": {
        "colab": {
          "base_uri": "https://localhost:8080/",
          "height": 169
        },
        "id": "Avky80iMUDYP",
        "outputId": "d3475c59-6f7e-45aa-9103-5c2cff018e37"
      },
      "execution_count": 44,
      "outputs": [
        {
          "output_type": "display_data",
          "data": {
            "text/plain": [
              "<Figure size 640x480 with 1 Axes>"
            ],
            "image/png": "[encoded data removed]"
          },
          "metadata": {}
        }
      ]
    },
    {
      "cell_type": "markdown",
      "source": [
        "A reconstrução morfológica foi realizada usando dilatações geodésicas iterativas, aplicadas a um marcador obtido por erosão da imagem original. A máscara controla o crescimento do marcador, garantindo que a reconstrução respeite os contornos e regiões da imagem original. Esse processo é essencial para separar objetos de interesse em processamento morfológico."
      ],
      "metadata": {
        "id": "0eQ7mdwHUaB3"
      }
    },
    {
      "cell_type": "markdown",
      "source": [
        "# 2.3 – Abertura por Reconstrução"
      ],
      "metadata": {
        "id": "NTFnrsTGUcex"
      }
    },
    {
      "cell_type": "markdown",
      "source": [
        "A abertura morfológica tradicional (`erosão + dilatação`) pode deformar objetos reais (como cantos ou partes finas). A abertura por reconstrução resolve isso:"
      ],
      "metadata": {
        "id": "F9Z494f3UfmV"
      }
    },
    {
      "cell_type": "markdown",
      "source": [
        "> Ela erode a imagem e depois reconstrói por dilatação, sem ultrapassar os limites da imagem original."
      ],
      "metadata": {
        "id": "jnezTBUNUiKg"
      }
    },
    {
      "cell_type": "code",
      "source": [
        "import cv2\n",
        "import numpy as np\n",
        "from matplotlib import pyplot as plt"
      ],
      "metadata": {
        "id": "AtBn-WscUk_-"
      },
      "execution_count": 45,
      "outputs": []
    },
    {
      "cell_type": "code",
      "source": [
        "mask = binary.copy()"
      ],
      "metadata": {
        "id": "1y8qJ2ifUnLV"
      },
      "execution_count": 46,
      "outputs": []
    },
    {
      "cell_type": "code",
      "source": [
        "kernel = cv2.getStructuringElement(cv2.MORPH_ELLIPSE, (5, 5))"
      ],
      "metadata": {
        "id": "3pOWNcfMUo6s"
      },
      "execution_count": 47,
      "outputs": []
    },
    {
      "cell_type": "code",
      "source": [
        "marker = cv2.erode(mask, kernel)"
      ],
      "metadata": {
        "id": "tzP9jteoUrAT"
      },
      "execution_count": 48,
      "outputs": []
    },
    {
      "cell_type": "code",
      "source": [
        "reconstructed = marker.copy()\n",
        "while True:\n",
        "    dilated = cv2.dilate(reconstructed, kernel)\n",
        "    reconstructed_new = cv2.min(dilated, mask)\n",
        "    if np.array_equal(reconstructed_new, reconstructed):\n",
        "        break\n",
        "    reconstructed = reconstructed_new"
      ],
      "metadata": {
        "id": "34N1GbWLUtCq"
      },
      "execution_count": 49,
      "outputs": []
    },
    {
      "cell_type": "code",
      "source": [
        "plt.figure(figsize=(15, 5))"
      ],
      "metadata": {
        "colab": {
          "base_uri": "https://localhost:8080/",
          "height": 52
        },
        "id": "ewHEOlE-UuoC",
        "outputId": "25dde2ce-2dce-4b5c-df74-c770ec82492b"
      },
      "execution_count": 50,
      "outputs": [
        {
          "output_type": "execute_result",
          "data": {
            "text/plain": [
              "<Figure size 1500x500 with 0 Axes>"
            ]
          },
          "metadata": {},
          "execution_count": 50
        },
        {
          "output_type": "display_data",
          "data": {
            "text/plain": [
              "<Figure size 1500x500 with 0 Axes>"
            ]
          },
          "metadata": {}
        }
      ]
    },
    {
      "cell_type": "code",
      "source": [
        "plt.subplot(1, 3, 1)\n",
        "plt.title(\"Imagem original (máscara)\")\n",
        "plt.imshow((1 - mask) * 255, cmap='gray')"
      ],
      "metadata": {
        "colab": {
          "base_uri": "https://localhost:8080/",
          "height": 187
        },
        "id": "xnwB-ilZUwUh",
        "outputId": "3d5deee9-5e10-4d9a-c16a-d6554ea2f74f"
      },
      "execution_count": 51,
      "outputs": [
        {
          "output_type": "execute_result",
          "data": {
            "text/plain": [
              "<matplotlib.image.AxesImage at 0x7cab71fc8450>"
            ]
          },
          "metadata": {},
          "execution_count": 51
        },
        {
          "output_type": "display_data",
          "data": {
            "text/plain": [
              "<Figure size 640x480 with 1 Axes>"
            ],
            "image/png": "[encoded data removed]"
          },
          "metadata": {}
        }
      ]
    },
    {
      "cell_type": "code",
      "source": [
        "plt.subplot(1, 3, 2)\n",
        "plt.title(\"Marcador (erosão)\")\n",
        "plt.imshow((1 - marker) * 255, cmap='gray')"
      ],
      "metadata": {
        "colab": {
          "base_uri": "https://localhost:8080/",
          "height": 186
        },
        "id": "Mm2kBbkVUx-S",
        "outputId": "d2c9df4a-aeca-4ccb-dac4-122edf41e4ad"
      },
      "execution_count": 52,
      "outputs": [
        {
          "output_type": "execute_result",
          "data": {
            "text/plain": [
              "<matplotlib.image.AxesImage at 0x7cab71e4b710>"
            ]
          },
          "metadata": {},
          "execution_count": 52
        },
        {
          "output_type": "display_data",
          "data": {
            "text/plain": [
              "<Figure size 640x480 with 1 Axes>"
            ],
            "image/png": "[encoded data removed]"
          },
          "metadata": {}
        }
      ]
    },
    {
      "cell_type": "code",
      "source": [
        "plt.subplot(1, 3, 3)\n",
        "plt.title(\"Abertura por reconstrução\")\n",
        "plt.imshow((1 - reconstructed) * 255, cmap='gray')\n",
        "plt.show()"
      ],
      "metadata": {
        "colab": {
          "base_uri": "https://localhost:8080/",
          "height": 169
        },
        "id": "pYbZa9x7UzTW",
        "outputId": "4554dae5-3b8f-4413-a55b-ed44fc9f1a1f"
      },
      "execution_count": 53,
      "outputs": [
        {
          "output_type": "display_data",
          "data": {
            "text/plain": [
              "<Figure size 640x480 with 1 Axes>"
            ],
            "image/png": "[encoded data removed]"
          },
          "metadata": {}
        }
      ]
    },
    {
      "cell_type": "markdown",
      "source": [
        "A abertura por reconstrução removeu pequenos ruídos da imagem binária utilizando uma erosão seguida de reconstrução morfológica por dilatação. Diferente da abertura clássica, essa técnica preserva melhor os contornos dos objetos, evitando deformações nas bordas."
      ],
      "metadata": {
        "id": "I0vqJqm7U8y2"
      }
    },
    {
      "cell_type": "markdown",
      "source": [
        "# 2.4 – Eliminação de Elementos de Borda"
      ],
      "metadata": {
        "id": "vrZfyNXhVB75"
      }
    },
    {
      "cell_type": "markdown",
      "source": [
        "Remover da imagem todos os objetos que tocam as bordas (superior, inferior, esquerda, direita). Isso é útil para limpar \"objetos incompletos\" que encostam na borda da imagem."
      ],
      "metadata": {
        "id": "MhFrWf5pVN86"
      }
    },
    {
      "cell_type": "code",
      "source": [
        "import cv2\n",
        "import numpy as np\n",
        "from matplotlib import pyplot as plt"
      ],
      "metadata": {
        "id": "aiZyiA8zVTH4"
      },
      "execution_count": 54,
      "outputs": []
    },
    {
      "cell_type": "code",
      "source": [
        "mask = binary.copy()"
      ],
      "metadata": {
        "id": "9I05dmMkVWb5"
      },
      "execution_count": 55,
      "outputs": []
    },
    {
      "cell_type": "code",
      "source": [
        "marker = np.zeros_like(mask, dtype=np.uint8)"
      ],
      "metadata": {
        "id": "ZG0CFGk-VY6t"
      },
      "execution_count": 56,
      "outputs": []
    },
    {
      "cell_type": "code",
      "source": [
        "marker[0, :] = mask[0, :]\n",
        "marker[-1, :] = mask[-1, :]"
      ],
      "metadata": {
        "id": "tKjzoY7MVbYZ"
      },
      "execution_count": 57,
      "outputs": []
    },
    {
      "cell_type": "code",
      "source": [
        "marker[:, 0] = mask[:, 0]\n",
        "marker[:, -1] = mask[:, -1]"
      ],
      "metadata": {
        "id": "8SrMjzEvVeU1"
      },
      "execution_count": 58,
      "outputs": []
    },
    {
      "cell_type": "code",
      "source": [
        "kernel = cv2.getStructuringElement(cv2.MORPH_CROSS, (3, 3))\n",
        "reconstructed = marker.copy()"
      ],
      "metadata": {
        "id": "v1LO20OJVgdn"
      },
      "execution_count": 59,
      "outputs": []
    },
    {
      "cell_type": "code",
      "source": [
        "while True:\n",
        "    dilated = cv2.dilate(reconstructed, kernel)\n",
        "    reconstructed_new = cv2.min(dilated, mask)\n",
        "    if np.array_equal(reconstructed_new, reconstructed):\n",
        "        break\n",
        "    reconstructed = reconstructed_new"
      ],
      "metadata": {
        "id": "mzltiUZ9Vjvt"
      },
      "execution_count": 60,
      "outputs": []
    },
    {
      "cell_type": "code",
      "source": [
        "cleaned = cv2.subtract(mask, reconstructed)"
      ],
      "metadata": {
        "id": "zhYQEpepVluK"
      },
      "execution_count": 61,
      "outputs": []
    },
    {
      "cell_type": "code",
      "source": [
        "plt.figure(figsize=(15, 5))\n",
        "plt.subplot(1, 3, 1)\n",
        "plt.title(\"Imagem original\")\n",
        "plt.imshow((1 - mask) * 255, cmap='gray')"
      ],
      "metadata": {
        "colab": {
          "base_uri": "https://localhost:8080/",
          "height": 303
        },
        "id": "Ru1_4ztKVoie",
        "outputId": "66f18747-abda-4fba-da89-926ad32d3872"
      },
      "execution_count": 62,
      "outputs": [
        {
          "output_type": "execute_result",
          "data": {
            "text/plain": [
              "<matplotlib.image.AxesImage at 0x7cab71e6e590>"
            ]
          },
          "metadata": {},
          "execution_count": 62
        },
        {
          "output_type": "display_data",
          "data": {
            "text/plain": [
              "<Figure size 1500x500 with 1 Axes>"
            ],
            "image/png": "[encoded data removed]"
          },
          "metadata": {}
        }
      ]
    },
    {
      "cell_type": "code",
      "source": [
        "plt.subplot(1, 3, 2)\n",
        "plt.title(\"Reconstrução a partir da borda\")\n",
        "plt.imshow((1 - reconstructed) * 255, cmap='gray')"
      ],
      "metadata": {
        "colab": {
          "base_uri": "https://localhost:8080/",
          "height": 186
        },
        "id": "9CsuNkRWVqqz",
        "outputId": "e3daf12b-d350-40d5-c06f-74569dd9244a"
      },
      "execution_count": 63,
      "outputs": [
        {
          "output_type": "execute_result",
          "data": {
            "text/plain": [
              "<matplotlib.image.AxesImage at 0x7cab71eaf390>"
            ]
          },
          "metadata": {},
          "execution_count": 63
        },
        {
          "output_type": "display_data",
          "data": {
            "text/plain": [
              "<Figure size 640x480 with 1 Axes>"
            ],
            "image/png": "[encoded data removed]"
          },
          "metadata": {}
        }
      ]
    },
    {
      "cell_type": "code",
      "source": [
        "plt.subplot(1, 3, 3)\n",
        "plt.title(\"Sem objetos de borda\")\n",
        "plt.imshow((1 - cleaned) * 255, cmap='gray')\n",
        "plt.show()"
      ],
      "metadata": {
        "colab": {
          "base_uri": "https://localhost:8080/",
          "height": 169
        },
        "id": "0ybuNPncVsyt",
        "outputId": "168c77c9-7b96-4f0a-fc7e-846f15758b5a"
      },
      "execution_count": 64,
      "outputs": [
        {
          "output_type": "display_data",
          "data": {
            "text/plain": [
              "<Figure size 640x480 with 1 Axes>"
            ],
            "image/png": "[encoded data removed]"
          },
          "metadata": {}
        }
      ]
    },
    {
      "cell_type": "markdown",
      "source": [
        "## 1. Esqueletonização\n",
        "* **Objetivo:** Reduzir a figura ao seu esqueleto, preservando a forma e a conectividade.\n",
        "* **Método usado:** erosões sucessivas + aberturas + subtrações acumuladas.\n",
        "* **Resultado:** o cavalo foi esqueletonizado corretamente. Fragmentações ocorreram por limitações naturais da técnica clássica.\n",
        "* **Melhoria aplicada:** uso de abertura e fechamento morfológicos antes da esqueletonização.\n",
        "\n",
        "A esqueletonização foi realizada com base em erosões sucessivas e aberturas morfológicas, acumulando as diferenças até extinção da imagem. O pré-processamento com abertura/fechamento melhorou a conectividade e reduziu ruídos."
      ],
      "metadata": {
        "id": "jJpvmdAgWPcK"
      }
    },
    {
      "cell_type": "markdown",
      "source": [
        "## 2.1 – Dilatação Geodésica\n",
        "* **Objetivo:** Fazer o marcador crescer por dilatações sucessivas sem ultrapassar a máscara.\n",
        "* **Resultado:** a imagem cresceu corretamente a partir de um ponto central até preencher totalmente o cavalo.\n",
        "\n",
        "A dilatação geodésica foi realizada por dilatações iterativas do marcador, limitadas pela imagem original (máscara). O processo cresceu até convergência, respeitando os contornos da máscara."
      ],
      "metadata": {
        "id": "Kn4-S-9JWgen"
      }
    },
    {
      "cell_type": "markdown",
      "source": [
        "## 2.2 – Reconstrução por Dilatação\n",
        "* **Objetivo:** Recuperar uma imagem após erosão, usando reconstrução morfológica.\n",
        "* **Resultado:** o cavalo foi erodido e, em seguida, reconstruído corretamente até sua forma original.\n",
        "\n",
        "A reconstrução por dilatação utilizou como marcador a imagem erodida, e como máscara a imagem original. O processo restaurou os contornos sem ultrapassar os limites da máscara, demonstrando a robustez da técnica."
      ],
      "metadata": {
        "id": "UV7ghp4iWsC7"
      }
    },
    {
      "cell_type": "markdown",
      "source": [
        "## 2.3 – Abertura por Reconstrução\n",
        "* **Objetivo:** Remover ruídos preservando a estrutura dos objetos reais.\n",
        "* **Resultado:** suavização dos detalhes finos, com preservação dos contornos principais do cavalo.\n",
        "\n",
        "A abertura por reconstrução aplicou erosão seguida de reconstrução por dilatação. A técnica removeu pequenos ruídos preservando a geometria dos objetos, o que é superior à abertura morfológica tradicional."
      ],
      "metadata": {
        "id": "_IFlgSGqW1xD"
      }
    },
    {
      "cell_type": "markdown",
      "source": [
        "## 2.4 – Eliminação de Elementos de Borda\n",
        "* **Objetivo:** Remover objetos que tocam as bordas da imagem.\n",
        "* **Resultado:** como o cavalo não estava conectado diretamente à borda, a reconstrução não extraiu nenhuma região, e a imagem final permaneceu igual.\n",
        "\n",
        "Objetos conectados às bordas foram identificados por reconstrução a partir de um marcador formado pelos pixels da borda da imagem. Neste caso, a ausência de crescimento indicou que não havia objetos encostando na borda."
      ],
      "metadata": {
        "id": "rL4CXzKCXCnY"
      }
    }
  ]
}